{
 "cells": [
  {
   "cell_type": "code",
   "execution_count": 5,
   "id": "1b30532b",
   "metadata": {},
   "outputs": [
    {
     "data": {
      "text/plain": [
       "array([[ 1,  4,  5, 12],\n",
       "       [-5,  8,  9,  0],\n",
       "       [-6,  7, 11, 19]])"
      ]
     },
     "execution_count": 5,
     "metadata": {},
     "output_type": "execute_result"
    }
   ],
   "source": [
    "import numpy as np\n",
    "\n",
    "A = np.array([[1,4,5,12],[-5,8,9,0],[-6,7,11,19]],dtype = int)\n",
    "\n",
    "A\n",
    "\n"
   ]
  },
  {
   "cell_type": "code",
   "execution_count": 17,
   "id": "d52fe934",
   "metadata": {},
   "outputs": [
    {
     "name": "stdout",
     "output_type": "stream",
     "text": [
      "summation:  65\n"
     ]
    }
   ],
   "source": [
    "np.min(A,axis = 1)\n",
    "np.max(A,axis = 0)\n",
    "A[0][0]\n",
    "\n",
    "\n",
    "### use for loop to calculate the summation of all elements in A\n",
    "summation = 0\n",
    "for i in A:\n",
    "    #print(i)\n",
    "    for j in i:\n",
    "        summation = summation + j\n",
    "\n",
    "print('summation: ',summation)\n",
    "        \n",
    "    \n"
   ]
  },
  {
   "cell_type": "code",
   "execution_count": 22,
   "id": "fa3431ae",
   "metadata": {},
   "outputs": [
    {
     "data": {
      "text/plain": [
       "array([[ 1,  3],\n",
       "       [ 2,  4],\n",
       "       [ 0, 10]])"
      ]
     },
     "execution_count": 22,
     "metadata": {},
     "output_type": "execute_result"
    }
   ],
   "source": [
    "B1 = np.array([1,3])\n",
    "B2 = np.array([2,4])\n",
    "B3 = np.array([0,10])\n",
    "\n",
    "B = np.array([B1,B2,B3])\n",
    "B"
   ]
  },
  {
   "cell_type": "code",
   "execution_count": 38,
   "id": "54b281ac",
   "metadata": {},
   "outputs": [
    {
     "name": "stdout",
     "output_type": "stream",
     "text": [
      "row is:  3 col is: 2\n"
     ]
    },
    {
     "data": {
      "text/plain": [
       "array([[1, 1, 1],\n",
       "       [1, 1, 1],\n",
       "       [1, 1, 1]])"
      ]
     },
     "execution_count": 38,
     "metadata": {},
     "output_type": "execute_result"
    }
   ],
   "source": [
    "(row,col) = B.shape\n",
    "print('row is: ', row, 'col is:', col)\n",
    "\n",
    "np.zeros((row,col),dtype = int)\n",
    "\n",
    "a = np.ones((row,col+1),dtype = int)\n",
    "a\n"
   ]
  },
  {
   "cell_type": "code",
   "execution_count": 43,
   "id": "fa39a430",
   "metadata": {},
   "outputs": [
    {
     "data": {
      "text/plain": [
       "array([[2, 4, 5],\n",
       "       [1, 1, 1],\n",
       "       [1, 1, 1]])"
      ]
     },
     "execution_count": 43,
     "metadata": {},
     "output_type": "execute_result"
    }
   ],
   "source": [
    "a[0,1] = 3\n",
    "a[0,:] = [2, 4, 5]\n",
    "\n",
    "a"
   ]
  },
  {
   "cell_type": "code",
   "execution_count": 61,
   "id": "b0cb2029",
   "metadata": {},
   "outputs": [
    {
     "data": {
      "text/plain": [
       "array([ 1. ,  5.5, 10. ])"
      ]
     },
     "execution_count": 61,
     "metadata": {},
     "output_type": "execute_result"
    }
   ],
   "source": [
    "#### syntax for arange is: np.arange(start,stop,step)\n",
    "\n",
    "A = np.arange(1,4,2)\n",
    "A = np.arange(3.5)\n",
    "A = np.arange(0,5,2)\n",
    "#A = np.arange(4)\n",
    "A\n",
    "\n",
    "\n",
    "### syntax for linspace: np.linspace(start,stop,number)\n",
    "np.linspace(1,10,3)"
   ]
  },
  {
   "cell_type": "code",
   "execution_count": 66,
   "id": "618b8eed",
   "metadata": {
    "scrolled": true
   },
   "outputs": [
    {
     "name": "stdout",
     "output_type": "stream",
     "text": [
      "A is:  [1 2 3]\n",
      "B is:  [10 20 30]\n",
      "[10 40 90]\n"
     ]
    }
   ],
   "source": [
    "A = np.array([1,2,3])\n",
    "B = np.array([10,20,30])\n",
    "print('A is: ', A)\n",
    "print('B is: ', B)\n",
    "\n",
    "print(A*B)"
   ]
  },
  {
   "cell_type": "code",
   "execution_count": 75,
   "id": "6ebabb27",
   "metadata": {},
   "outputs": [
    {
     "data": {
      "text/plain": [
       "array([3, 4])"
      ]
     },
     "execution_count": 75,
     "metadata": {},
     "output_type": "execute_result"
    }
   ],
   "source": [
    "p_ini = np.array([22,89,56])\n",
    "p_f = np.array([23,87,53])\n",
    "r = (p_ini - p_f)/p_ini\n",
    "\n",
    "a = np.array([1,2])\n",
    "3*a\n",
    "\n",
    "b = np.array([3,4])\n",
    "\n",
    "alpha = -0.5\n",
    "beta = 1.5\n",
    "\n",
    "c = alpha*a + beta*b\n",
    "\n",
    "c[0]\n",
    "#c[1]\n",
    "#print('my c is:', c)\n",
    "1*-0.5+1.5*3\n",
    "\n",
    "a*b\n",
    "np.inner(a,b)  ### a times transpose of b\n",
    "a@b\n"
   ]
  },
  {
   "cell_type": "code",
   "execution_count": 93,
   "id": "605d3fbf",
   "metadata": {},
   "outputs": [
    {
     "name": "stdout",
     "output_type": "stream",
     "text": [
      "My B is:  [ 0  1  2  3  4  5  6  7  8  9 10 11]\n",
      "My C is:  [[ 0  1  2  3]\n",
      " [ 4  5  6  7]\n",
      " [ 8  9 10 11]]\n",
      "My D is:  [[ 1.  2.  3.  4.]\n",
      " [ 5.  6.  7.  8.]\n",
      " [ 9. 10. 11. 12.]]\n"
     ]
    }
   ],
   "source": [
    "### make a matrix with reshape function \n",
    "B = np.arange(12)\n",
    "print('My B is: ', B)\n",
    "\n",
    "C = B.reshape(3,4)\n",
    "print('My C is: ', C)\n",
    "\n",
    "D = np.linspace(1,12,12).reshape(3,4)\n",
    "\n",
    "print('My D is: ', D)"
   ]
  },
  {
   "cell_type": "code",
   "execution_count": 105,
   "id": "077bb103",
   "metadata": {},
   "outputs": [
    {
     "name": "stdout",
     "output_type": "stream",
     "text": [
      "A is:  [[ 3  6  7]\n",
      " [ 5 -3  0]]\n",
      "B is:  [[ 3  6]\n",
      " [ 7  5]\n",
      " [-3  0]]\n",
      "My C is: [[30 48]\n",
      " [-6 15]]\n",
      "My E is:  [[30 48]\n",
      " [-6 15]]\n"
     ]
    },
    {
     "data": {
      "text/plain": [
       "array([[0.21628167, 0.30432391, 0.48171746, 0.09983236],\n",
       "       [0.39864284, 0.79783394, 0.59609717, 0.78960632],\n",
       "       [0.47372233, 0.16643394, 0.56923876, 0.45833641]])"
      ]
     },
     "execution_count": 105,
     "metadata": {},
     "output_type": "execute_result"
    }
   ],
   "source": [
    "A = np.array([[3, 6, 7],[5, -3, 0]])\n",
    "B = A.reshape(3,2)\n",
    "\n",
    "print('A is: ',A)\n",
    "print('B is: ',B)\n",
    "\n",
    "C = A.dot(B)\n",
    "C = np.dot(A,B)\n",
    "print('My C is:', C )\n",
    "\n",
    "E = np.matmul(A,B)   ### recommended\n",
    "print('My E is: ', E)\n",
    "\n",
    "\n",
    "np.identity(4,dtype = int)\n",
    "\n",
    "np.diag(np.arange(0,20,5))\n",
    "\n",
    "np.random.rand(3,4)"
   ]
  },
  {
   "cell_type": "code",
   "execution_count": null,
   "id": "028ac112",
   "metadata": {},
   "outputs": [],
   "source": []
  }
 ],
 "metadata": {
  "kernelspec": {
   "display_name": "Python 3",
   "language": "python",
   "name": "python3"
  },
  "language_info": {
   "codemirror_mode": {
    "name": "ipython",
    "version": 3
   },
   "file_extension": ".py",
   "mimetype": "text/x-python",
   "name": "python",
   "nbconvert_exporter": "python",
   "pygments_lexer": "ipython3",
   "version": "3.8.8"
  }
 },
 "nbformat": 4,
 "nbformat_minor": 5
}
