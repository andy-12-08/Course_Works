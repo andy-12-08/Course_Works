{
 "cells": [
  {
   "cell_type": "code",
   "execution_count": 15,
   "id": "f4fced1e",
   "metadata": {},
   "outputs": [
    {
     "data": {
      "image/png": "[encoded data removed]",
      "text/latex": [
       "$\\displaystyle 2 \\left(6 x^{2} + 3 x + 1\\right)$"
      ],
      "text/plain": [
       "  ⎛   2          ⎞\n",
       "2⋅⎝6⋅x  + 3⋅x + 1⎠"
      ]
     },
     "execution_count": 15,
     "metadata": {},
     "output_type": "execute_result"
    }
   ],
   "source": [
    "### \n",
    "import sympy\n",
    "sympy.init_printing()\n",
    "\n",
    "x,y = sympy.symbols('x,y')\n",
    "\n",
    "f = sympy.Function('f')(x,y)\n",
    "\n",
    "df = sympy.diff(f,x,3,y,2)\n",
    "df\n",
    "\n",
    "expr = x**4 + x**3 + x**2 + 1\n",
    "sec_df = expr.diff(x,2)\n",
    "sec_df"
   ]
  },
  {
   "cell_type": "code",
   "execution_count": 30,
   "id": "7de8c15d",
   "metadata": {},
   "outputs": [
    {
     "name": "stdout",
     "output_type": "stream",
     "text": [
      "Hello,Blake good morning!\n",
      "Type a name:ddd\n",
      "Hello ddd have a good day.\n"
     ]
    }
   ],
   "source": [
    "def greet(name):\n",
    "    print('Hello,'+ name + ' good morning!')\n",
    "\n",
    "greet('Blake')\n",
    "\n",
    "\n",
    "\n",
    "def greet2():   \n",
    "    name = input('Type a name:')\n",
    "    print('Hello '+ name + ' have a good day.')\n",
    "    \n",
    "greet2()   \n",
    "    "
   ]
  },
  {
   "cell_type": "code",
   "execution_count": 34,
   "id": "d9309784",
   "metadata": {},
   "outputs": [
    {
     "data": {
      "text/plain": [
       "'HiHi'"
      ]
     },
     "execution_count": 34,
     "metadata": {},
     "output_type": "execute_result"
    }
   ],
   "source": [
    "def times(x,y):\n",
    "    #print('the product of x and y is: ', x*y)\n",
    "    return x*y\n",
    "#times(2,3)\n",
    "\n",
    "times('Hi',2)"
   ]
  },
  {
   "cell_type": "code",
   "execution_count": 46,
   "id": "5f149e4e",
   "metadata": {},
   "outputs": [
    {
     "data": {
      "text/plain": [
       "list"
      ]
     },
     "execution_count": 46,
     "metadata": {},
     "output_type": "execute_result"
    }
   ],
   "source": [
    "def intersect(seq1,seq2):\n",
    "    common = []\n",
    "    for i in seq1:\n",
    "        if i in seq2:\n",
    "            common.append(i)\n",
    "    return common\n",
    "\n",
    "intersect('TEST1','TeST2')\n",
    "\n",
    "#'t' not in 'TEST'\n",
    "\n",
    "\n",
    "def intersect2(seq1,seq2):\n",
    "    common = []\n",
    "    for i in seq1:\n",
    "        if i in seq2 and i not in common:\n",
    "            common.append(i)\n",
    "    return common\n",
    "\n",
    "intersect2('TEST1','TeST2')\n",
    "\n",
    "A = intersect2([1,2,3,4],(2,3,5))\n",
    "type(A)"
   ]
  },
  {
   "cell_type": "code",
   "execution_count": 49,
   "id": "0943508f",
   "metadata": {},
   "outputs": [
    {
     "name": "stdout",
     "output_type": "stream",
     "text": [
      "my x is:  88\n"
     ]
    }
   ],
   "source": [
    "### nested function \n",
    "def f1():\n",
    "    x = 88\n",
    "    def f2():\n",
    "        print('my x is: ',x)\n",
    "    f2() \n",
    "        \n",
    "f1()"
   ]
  },
  {
   "cell_type": "code",
   "execution_count": 52,
   "id": "dd1d9768",
   "metadata": {},
   "outputs": [
    {
     "name": "stdout",
     "output_type": "stream",
     "text": [
      "my intermediate x is:  12.0\n",
      "new x is:  12.0\n"
     ]
    },
    {
     "data": {
      "image/png": "[encoded data removed]",
      "text/latex": [
       "$\\displaystyle 12.0$"
      ],
      "text/plain": [
       "12.0"
      ]
     },
     "execution_count": 52,
     "metadata": {},
     "output_type": "execute_result"
    }
   ],
   "source": [
    "def nestfun(a,threshold):\n",
    "    x = a**2 - 2*a  ### x = 36-12 = 24\n",
    "    if x > threshold:  ### 24 > 3\n",
    "        def division():\n",
    "            nonlocal x\n",
    "            x = x/2  ### x = 12\n",
    "            return print('my intermediate x is: ', x)\n",
    "        division()\n",
    "        print('new x is: ', x)\n",
    "    return x\n",
    "\n",
    "nestfun(6,3)"
   ]
  },
  {
   "cell_type": "code",
   "execution_count": 82,
   "id": "1f25c4cf",
   "metadata": {},
   "outputs": [
    {
     "name": "stdout",
     "output_type": "stream",
     "text": [
      "(1.0000009536743164, 9.094947017729282e-13, 20)\n"
     ]
    }
   ],
   "source": [
    "import numpy as np\n",
    "from scipy import linalg as la\n",
    "from scipy import optimize\n",
    "\n",
    "def newtons_method(f,x0,maxiter,tol = 1e-12):\n",
    "    df = sympy.diff(f)\n",
    "    x_n = x - f/df\n",
    "    ### f\n",
    "    old_x = x0\n",
    "    y_n = f.subs(x,x0) ### evaluate f function\n",
    "    df_n = df.subs(x,x0) ### value for f_prime\n",
    "    n = 0\n",
    "    while np.absolute(y_n) > tol and n < maxiter:\n",
    "        old_x = x_n.subs(x,old_x)\n",
    "        y_n = f.subs(x,old_x)\n",
    "        df_n = df.subs(x,old_x)\n",
    "        n += 1\n",
    "    return float(old_x), float(y_n), int(n) \n",
    "             \n",
    "x = sympy.Symbol('x')\n",
    "f = x**2 - 2*x + 1\n",
    "\n",
    "print(newtons_method(f,x0=2,maxiter = 30))"
   ]
  },
  {
   "cell_type": "code",
   "execution_count": 68,
   "id": "1a703a50",
   "metadata": {},
   "outputs": [
    {
     "data": {
      "image/png": "[encoded data removed]",
      "text/latex": [
       "$\\displaystyle 0.25$"
      ],
      "text/plain": [
       "0.250000000000000"
      ]
     },
     "execution_count": 68,
     "metadata": {},
     "output_type": "execute_result"
    }
   ],
   "source": []
  },
  {
   "cell_type": "code",
   "execution_count": null,
   "id": "03b0ca3b",
   "metadata": {},
   "outputs": [],
   "source": []
  }
 ],
 "metadata": {
  "kernelspec": {
   "display_name": "Python 3",
   "language": "python",
   "name": "python3"
  },
  "language_info": {
   "codemirror_mode": {
    "name": "ipython",
    "version": 3
   },
   "file_extension": ".py",
   "mimetype": "text/x-python",
   "name": "python",
   "nbconvert_exporter": "python",
   "pygments_lexer": "ipython3",
   "version": "3.8.8"
  }
 },
 "nbformat": 4,
 "nbformat_minor": 5
}
