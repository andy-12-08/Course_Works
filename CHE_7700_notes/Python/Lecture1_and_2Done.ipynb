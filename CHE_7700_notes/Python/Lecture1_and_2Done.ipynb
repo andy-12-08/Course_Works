{
 "cells": [
  {
   "cell_type": "code",
   "execution_count": 1,
   "id": "62a2051a",
   "metadata": {},
   "outputs": [
    {
     "name": "stdout",
     "output_type": "stream",
     "text": [
      "Hello World\n"
     ]
    }
   ],
   "source": [
    "print('Hello World')"
   ]
  },
  {
   "cell_type": "code",
   "execution_count": 14,
   "id": "b179de88",
   "metadata": {},
   "outputs": [
    {
     "name": "stdout",
     "output_type": "stream",
     "text": [
      "hello\n"
     ]
    }
   ],
   "source": [
    "i = \"hello\"\n",
    "print(i)"
   ]
  },
  {
   "cell_type": "code",
   "execution_count": 9,
   "id": "58fc736a",
   "metadata": {},
   "outputs": [],
   "source": [
    "a = \"this is a string\"\n",
    "b = 'this is also string'\n",
    "c = '''this sisss'''"
   ]
  },
  {
   "cell_type": "code",
   "execution_count": 10,
   "id": "199e8588",
   "metadata": {},
   "outputs": [
    {
     "name": "stdout",
     "output_type": "stream",
     "text": [
      "I don't know how to Read the \"Book\".\n"
     ]
    }
   ],
   "source": [
    "I = \"I don't know\"\n",
    "L = '''I don't know how to Read the \"Book\".'''\n",
    "print(L)"
   ]
  },
  {
   "cell_type": "code",
   "execution_count": 19,
   "id": "d5c1f47c",
   "metadata": {},
   "outputs": [
    {
     "data": {
      "text/plain": [
       "7"
      ]
     },
     "execution_count": 19,
     "metadata": {},
     "output_type": "execute_result"
    }
   ],
   "source": [
    "2*2+3\n",
    "3j+2 ### complex number"
   ]
  },
  {
   "cell_type": "code",
   "execution_count": 5,
   "id": "7b2082f8",
   "metadata": {},
   "outputs": [
    {
     "name": "stdout",
     "output_type": "stream",
     "text": [
      "this is a string\n",
      "16\n"
     ]
    },
    {
     "data": {
      "text/plain": [
       "True"
      ]
     },
     "execution_count": 5,
     "metadata": {},
     "output_type": "execute_result"
    }
   ],
   "source": [
    "a = \"this is a string\"  ### you can define a string with single quote, double quote and even triple quote for string with multiple lines.\n",
    "b = 'this is another string'\n",
    "c = '''this is a third string''' \n",
    "\n",
    "print(a)\n",
    "\n",
    "print(len(a))  ## gives you the length of the string\n",
    "\n",
    "### \n",
    "# i = 'I don't know'\n",
    "# i = \"I don't know\"\n",
    "# i = \"To read the \"Book\".\"\n",
    "# i = 'To read the \"Book\".'\n",
    "# i = '''I don't know how to read the \"Book\".'''\n",
    "\n",
    "### boolean \n",
    "a == b\n",
    "a != b"
   ]
  },
  {
   "cell_type": "code",
   "execution_count": 27,
   "id": "a1919130",
   "metadata": {},
   "outputs": [
    {
     "data": {
      "text/plain": [
       "'zhe4410/7700Python'"
      ]
     },
     "execution_count": 27,
     "metadata": {},
     "output_type": "execute_result"
    }
   ],
   "source": [
    "#### string and indexing\n",
    "new_str = 'che4410/7700Python'\n",
    "\n",
    "type(new_str)\n",
    "len(new_str)\n",
    "\n",
    "### length of the string = 18\n",
    "\n",
    "new_str[0]\n",
    "new_str[17]\n",
    "new_str[-1]\n",
    "new_str[-2]\n",
    "new_str[0:3] \n",
    "new_str[2:6]\n",
    "new_str[1:]  ### colon\n",
    "\n",
    "new_str[:3]\n",
    "new_str[:]\n",
    "new_str\n",
    "\n",
    "new_str = 'che4410/7700Python'\n",
    "### zhe4410...\n",
    "# new_str[0] = 'z'\n",
    "\n",
    "new_str = 'z' + new_str\n",
    "\n",
    "new_str2 = 'z' + new_str[2:]\n",
    "new_str2"
   ]
  },
  {
   "cell_type": "code",
   "execution_count": 28,
   "id": "2361b5c0",
   "metadata": {},
   "outputs": [
    {
     "name": "stdout",
     "output_type": "stream",
     "text": [
      "Enter a number for x: 3\n"
     ]
    }
   ],
   "source": [
    "x = input(\"Enter a number for x: \")"
   ]
  },
  {
   "cell_type": "code",
   "execution_count": 36,
   "id": "40d32c74",
   "metadata": {},
   "outputs": [
    {
     "data": {
      "text/plain": [
       "3.0"
      ]
     },
     "execution_count": 36,
     "metadata": {},
     "output_type": "execute_result"
    }
   ],
   "source": [
    "type(x)\n",
    "x = float(x)\n",
    "type(x)\n",
    "x"
   ]
  },
  {
   "cell_type": "code",
   "execution_count": 72,
   "id": "71519f32",
   "metadata": {},
   "outputs": [
    {
     "name": "stdout",
     "output_type": "stream",
     "text": [
      "This is addition:  1\n",
      "mn is: 96\n"
     ]
    },
    {
     "data": {
      "text/plain": [
       "'      1111'"
      ]
     },
     "execution_count": 72,
     "metadata": {},
     "output_type": "execute_result"
    }
   ],
   "source": [
    "### number manipulation\n",
    "\n",
    "a = 7\n",
    "type(a)\n",
    "\n",
    "b = 3\n",
    "type(b)\n",
    "\n",
    "print('This is addition: ', a%b)\n",
    "\n",
    "an = 2.0 + 6//4\n",
    "type(an)\n",
    "\n",
    "mn = a*2 + b*4 +\\\n",
    "a**2 + a*b\n",
    "\n",
    "print('mn is:', mn)\n",
    "\n",
    "\n",
    "### format a number  format(number,spec)\n",
    "\n",
    "format(123.392,'20.4f')\n",
    "format(10000000.392,',.2f')\n",
    "format(1000000.20,'0.2e')\n",
    "\n",
    "format(1111,'10d')\n",
    "\n"
   ]
  },
  {
   "cell_type": "code",
   "execution_count": 83,
   "id": "f97588da",
   "metadata": {},
   "outputs": [
    {
     "name": "stdout",
     "output_type": "stream",
     "text": [
      "Area is:  471\n"
     ]
    },
    {
     "data": {
      "text/plain": [
       "str"
      ]
     },
     "execution_count": 83,
     "metadata": {},
     "output_type": "execute_result"
    }
   ],
   "source": [
    "import numpy as np\n",
    "Pi = np.pi\n",
    "r = 5.0\n",
    "h = 10\n",
    "\n",
    "area = 2*Pi*r**2 + 2*Pi*r*h\n",
    "area\n",
    "area = int(area)\n",
    "type(area)\n",
    "\n",
    "\n",
    "print('Area is: ', format(area,'d'))\n"
   ]
  },
  {
   "cell_type": "code",
   "execution_count": 138,
   "id": "e3542a84",
   "metadata": {},
   "outputs": [
    {
     "data": {
      "text/plain": [
       "6"
      ]
     },
     "execution_count": 138,
     "metadata": {},
     "output_type": "execute_result"
    }
   ],
   "source": [
    "#### list\n",
    "\n",
    "x = [2,4]\n",
    "len(x)\n",
    "y = x\n",
    "y\n",
    "\n",
    "new_str = 'che4410/7700Python'\n",
    "N_list = list(new_str)\n",
    "N_list\n",
    "''.join(N_list)\n",
    "\n",
    "\n",
    "N_list[0]\n",
    "N_list[0] = 'z'\n",
    "N_list\n",
    "\n",
    "L1 = ['string',1,[2,[4,129]]]\n",
    "L1\n",
    "\n",
    "len(L1)\n",
    "L1[2]\n",
    "L1[2][1][1]\n",
    "#L1[2][1]\n",
    "\n",
    "\n",
    "d = 4\n",
    "\n",
    "L1.append(d)\n",
    "\n",
    "L1\n",
    "\n",
    "L2 = L1[0:-2]\n",
    "L2\n",
    "\n",
    "L2 + L1\n",
    "\n",
    "A = [2,3,1]\n",
    "B = A + A + A\n",
    "B\n",
    "\n",
    "M = [[1,4,6,12],\n",
    "     [-5,8,9,1],\n",
    "     [-6,7,11,19]]\n",
    "type(M)\n",
    "len(M)\n",
    "M[0][2]\n",
    "M[2][1]\n",
    "\n",
    "New_M = M\n",
    "\n",
    "New_M + M\n",
    "len(New_M+M)"
   ]
  },
  {
   "cell_type": "code",
   "execution_count": 141,
   "id": "ded09297",
   "metadata": {},
   "outputs": [
    {
     "name": "stdout",
     "output_type": "stream",
     "text": [
      "1\n",
      "2\n",
      "3\n"
     ]
    }
   ],
   "source": [
    "X = [1,2,3]\n",
    "Y = [4,5,6]\n",
    "\n",
    "summation \n",
    "ans = zip(X,Y)\n",
    "for (i,j) in zip(X,Y):\n",
    "    print(i)"
   ]
  },
  {
   "cell_type": "code",
   "execution_count": null,
   "id": "39879150",
   "metadata": {},
   "outputs": [],
   "source": []
  }
 ],
 "metadata": {
  "kernelspec": {
   "display_name": "Python 3",
   "language": "python",
   "name": "python3"
  },
  "language_info": {
   "codemirror_mode": {
    "name": "ipython",
    "version": 3
   },
   "file_extension": ".py",
   "mimetype": "text/x-python",
   "name": "python",
   "nbconvert_exporter": "python",
   "pygments_lexer": "ipython3",
   "version": "3.8.8"
  }
 },
 "nbformat": 4,
 "nbformat_minor": 5
}
