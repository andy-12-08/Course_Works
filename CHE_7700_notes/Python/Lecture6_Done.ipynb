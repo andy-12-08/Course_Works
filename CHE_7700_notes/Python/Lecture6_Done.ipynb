{
 "cells": [
  {
   "cell_type": "code",
   "execution_count": 54,
   "id": "c75945d1",
   "metadata": {},
   "outputs": [
    {
     "name": "stdout",
     "output_type": "stream",
     "text": [
      "wwwww\n"
     ]
    }
   ],
   "source": [
    "import numpy as np\n",
    "\n",
    "M1 = np.linspace(1,10,6).reshape(2,3)\n",
    "M2 = np.linspace(2,40,12).reshape(3,4)\n",
    "\n",
    "if (np.sum(M1[:,1]) <= np.sum(M2[:,1]) or \n",
    "    np.max(M1) <= np.min(M2)):\n",
    "    print('wwwww')\n",
    "else:\n",
    "    print('bbbbbb')"
   ]
  },
  {
   "cell_type": "code",
   "execution_count": 70,
   "id": "e1fee104",
   "metadata": {},
   "outputs": [
    {
     "name": "stdout",
     "output_type": "stream",
     "text": [
      "first condition is true\n",
      "[[ 1.   2.8  4.6]\n",
      " [ 6.4  8.2 10. ]]\n",
      "i is:  [1.  2.8 4.6]\n",
      "my first j is:  1.0\n",
      "my first j is:  2.8\n",
      "my first j is:  4.6\n",
      "i is:  [ 6.4  8.2 10. ]\n",
      "my count is:  3\n",
      "There are 17 elements bigger or equal to 5 in M2.\n"
     ]
    }
   ],
   "source": [
    "x = ['xxxx']\n",
    "if x:\n",
    "    print('first condition is true')\n",
    "else:\n",
    "    print('condition is not true')\n",
    "    \n",
    "print(M1) \n",
    "### write your code to calculate the number of elements \n",
    "#### in M1 that are bigger or equal to 5\n",
    "\n",
    "count = 0\n",
    "for i in M1:\n",
    "    print('i is: ',i)\n",
    "    for j in i:\n",
    "        if np.sum(i == M1[0])==3:\n",
    "            print('my first j is: ', j)\n",
    "\n",
    "\n",
    "for i in M1:\n",
    "    for j in i:\n",
    "        if j >= 5:\n",
    "            count += 1\n",
    "            \n",
    "print('my count is: ', count)\n",
    "\n",
    "for i in M2:\n",
    "    for j in i:\n",
    "        count += 1 if j >= 5 else count\n",
    "        \n",
    "print('There are {} elements bigger or equal to 5 in M2.'.format(count))\n",
    "        \n"
   ]
  },
  {
   "cell_type": "code",
   "execution_count": 73,
   "id": "29f9fb5c",
   "metadata": {},
   "outputs": [
    {
     "name": "stdout",
     "output_type": "stream",
     "text": [
      "[[False False False]\n",
      " [ True  True  True]]\n"
     ]
    },
    {
     "data": {
      "text/plain": [
       "3"
      ]
     },
     "execution_count": 73,
     "metadata": {},
     "output_type": "execute_result"
    }
   ],
   "source": [
    "M = M1 >= 5\n",
    "print(M)\n",
    "np.sum(M)"
   ]
  },
  {
   "cell_type": "code",
   "execution_count": 76,
   "id": "71c080e8",
   "metadata": {},
   "outputs": [
    {
     "name": "stdout",
     "output_type": "stream",
     "text": [
      "wwss\n"
     ]
    }
   ],
   "source": [
    "x = 'SPAM'\n",
    "\n",
    "if 'rubbery' in 'shrubbery':\n",
    "    x += 'NI'*2\n",
    "    ###x = x+ 'NI'*2\n",
    "    if len(x) == 6:\n",
    "        print('length is 6')\n",
    "    else:\n",
    "        print('wwss')\n",
    "   "
   ]
  },
  {
   "cell_type": "code",
   "execution_count": 83,
   "id": "475ec76b",
   "metadata": {},
   "outputs": [
    {
     "name": "stdout",
     "output_type": "stream",
     "text": [
      "new x:  hort\n",
      "new x:  ort\n",
      "new x:  rt\n",
      "new x:  t\n",
      "new x:  \n",
      "5\n"
     ]
    }
   ],
   "source": [
    "### while loop \n",
    "\n",
    "a = 0\n",
    "b = 10\n",
    "iteration = 0\n",
    "while a < b:\n",
    "    iteration += 1\n",
    "    #print(iteration)\n",
    "    a += 3\n",
    "    #print(a)\n",
    "\n",
    "#print(iteration)\n",
    "\n",
    "\n",
    "x = 'Short' \n",
    "counter = 0\n",
    "while x:   #### checking if x is empty or not.  \n",
    "    x = x[1:]\n",
    "    counter += 1\n",
    "    print('new x: ',x)\n",
    "    \n",
    "print(counter)\n",
    "\n",
    "    "
   ]
  },
  {
   "cell_type": "code",
   "execution_count": 109,
   "id": "d095ac2e",
   "metadata": {},
   "outputs": [
    {
     "name": "stdout",
     "output_type": "stream",
     "text": [
      "8\n",
      "6\n",
      "4\n",
      "2\n",
      "0\n",
      "produc 24\n"
     ]
    }
   ],
   "source": [
    "y = 10\n",
    "\n",
    "#print('rem:', 9%2)\n",
    "\n",
    "while y > 0:\n",
    "    y = y -1  ### y = 8\n",
    "    if y % 2 != 1: \n",
    "        #pass\n",
    "        print(y)\n",
    "        #break\n",
    "        continue\n",
    "        print('after')\n",
    "        #pass\n",
    "\n",
    "item = [1,2,3,4]\n",
    "prod = 1\n",
    "for i in item:\n",
    "    prod*=i\n",
    "    \n",
    "print('produc',prod)"
   ]
  },
  {
   "cell_type": "code",
   "execution_count": 125,
   "id": "a328e5a3",
   "metadata": {},
   "outputs": [
    {
     "name": "stdout",
     "output_type": "stream",
     "text": [
      "my old b is: [2, 3, 4, 4, 4, 4]\n",
      "<class 'list'>\n",
      "my old b is: [6, 7, 8, 8, 8, 8]\n",
      "<class 'list'>\n",
      "my b is: (2, 3, 4, 4, 4, 4)\n",
      "<class 'tuple'>\n",
      "my b is: (6, 7, 8, 8, 8, 8)\n",
      "<class 'tuple'>\n"
     ]
    }
   ],
   "source": [
    "T = [(1,2),(3,4),(5,6)]\n",
    "\n",
    "for (a,b) in T:\n",
    "    #print(a)\n",
    "    pass\n",
    "    #print(b)\n",
    "    \n",
    "    \n",
    "L = [(1,2,3,4,4,4,4,4),(5,6,7,8,8,8,8,8)]\n",
    "\n",
    "L[0]\n",
    "\n",
    "for (a,b,*c) in L:\n",
    "    #print('my a is:',a)\n",
    "    #print('my c is: ', c)\n",
    "    pass\n",
    "    \n",
    "for (a,*b,c) in L:\n",
    "    print('my old b is:',b)\n",
    "    print(type(b))\n",
    "    #print('my c is: ', c)\n",
    "    pass\n",
    "\n",
    "###print(type(c))\n",
    "\n",
    "for all in L:\n",
    "    a,b,c = all[0],all[1:-1],all[-1]\n",
    "    print('my b is:', b)\n",
    "    print(type(b))\n",
    "    "
   ]
  },
  {
   "cell_type": "code",
   "execution_count": 138,
   "id": "25a97632",
   "metadata": {},
   "outputs": [
    {
     "name": "stdout",
     "output_type": "stream",
     "text": [
      "my contents is:  ['first line \\n', 'second line \\n']\n"
     ]
    }
   ],
   "source": [
    "#### creat a text file\n",
    "\n",
    "myfile = open('first_file_test.txt','w')\n",
    "\n",
    "myfile.write('first line \\n')\n",
    "myfile.write('second line \\n')\n",
    "\n",
    "myfile.close()\n",
    "\n",
    "### read a text file\n",
    "\n",
    "myfile = open('first_file_test.txt','r')\n",
    "#myfile.readline()\n",
    "#print(myfile.readline())\n",
    "\n",
    "#print(myfile.read())\n",
    "\n",
    "\n",
    "for row in open('first_file_test.txt','r'):\n",
    "    #print(row,end='')\n",
    "    pass\n",
    "\n",
    "with open('first_file_test.txt') as file:\n",
    "    contents = file.readlines()\n",
    "    print('my contents is: ', contents)\n",
    "    \n",
    "#print('my con', contents)"
   ]
  },
  {
   "cell_type": "code",
   "execution_count": null,
   "id": "3b74c12a",
   "metadata": {},
   "outputs": [],
   "source": []
  }
 ],
 "metadata": {
  "kernelspec": {
   "display_name": "Python 3",
   "language": "python",
   "name": "python3"
  },
  "language_info": {
   "codemirror_mode": {
    "name": "ipython",
    "version": 3
   },
   "file_extension": ".py",
   "mimetype": "text/x-python",
   "name": "python",
   "nbconvert_exporter": "python",
   "pygments_lexer": "ipython3",
   "version": "3.8.8"
  }
 },
 "nbformat": 4,
 "nbformat_minor": 5
}
