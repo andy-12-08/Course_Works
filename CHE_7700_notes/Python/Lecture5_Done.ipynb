{
 "cells": [
  {
   "cell_type": "code",
   "execution_count": 27,
   "id": "59c353bb",
   "metadata": {},
   "outputs": [
    {
     "name": "stdout",
     "output_type": "stream",
     "text": [
      "A is:  [[ 3  6  7]\n",
      " [ 5 -3  0]\n",
      " [ 4  7 10]]\n",
      "B is:  [[ 3  5  4]\n",
      " [ 6 -3  7]\n",
      " [ 7  0 10]]\n",
      "Inv is:  [[ 0.49180328  0.18032787 -0.3442623 ]\n",
      " [ 0.81967213 -0.03278689 -0.57377049]\n",
      " [-0.7704918  -0.04918033  0.63934426]]\n",
      "Eig Vals are:  [14.3677305   0.81861584 -5.18634634]\n",
      "##########\n",
      "New B is:  [[ 7 10 11]\n",
      " [ 9  1  4]\n",
      " [ 8 11 14]]\n",
      "C is:  [[0. 0.]\n",
      " [0. 0.]]\n"
     ]
    },
    {
     "data": {
      "text/plain": [
       "0.0"
      ]
     },
     "execution_count": 27,
     "metadata": {},
     "output_type": "execute_result"
    }
   ],
   "source": [
    "import numpy as np\n",
    "\n",
    "A = np.array([[3,6,7],[5,-3,0],[4,7,10]])\n",
    "\n",
    "print('A is: ', A)\n",
    "\n",
    "B = np.transpose(A)\n",
    "print('B is: ', B)\n",
    "\n",
    "inverse = np.linalg.inv(A)\n",
    "\n",
    "print('Inv is: ', inverse)\n",
    "\n",
    "print('Eig Vals are: ',np.linalg.eigvals(A))\n",
    "print('##########')\n",
    "\n",
    "B = A + 4\n",
    "print('New B is: ', B)\n",
    "\n",
    "np.sqrt(B)\n",
    "\n",
    "np.remainder(A,B)\n",
    "\n",
    "np.mean(A,axis = 0)\n",
    "np.std(A)\n",
    "\n",
    "C = np.array([[0.0,0],[0,0]])\n",
    "print('C is: ', C)\n",
    "np.prod(C)"
   ]
  },
  {
   "cell_type": "code",
   "execution_count": 28,
   "id": "2d8eea94",
   "metadata": {},
   "outputs": [
    {
     "data": {
      "text/plain": [
       "False"
      ]
     },
     "execution_count": 28,
     "metadata": {},
     "output_type": "execute_result"
    }
   ],
   "source": [
    "np.all(C)\n",
    "np.any(C)"
   ]
  },
  {
   "cell_type": "code",
   "execution_count": 34,
   "id": "cf4afb62",
   "metadata": {},
   "outputs": [
    {
     "name": "stdout",
     "output_type": "stream",
     "text": [
      "C is:  54\n"
     ]
    }
   ],
   "source": [
    "#### if loop \n",
    "a = 18\n",
    "b = 3\n",
    "\n",
    "#a <= b\n",
    "\n",
    "if a == b:\n",
    "    c = a\n",
    "elif a > b + 4:  ### 18>7\n",
    "    \n",
    "    if a < b + 10:\n",
    "        c = 2*a\n",
    "    else:\n",
    "        c = 3*a  #### 3*18 = 54\n",
    "else:\n",
    "    c = b\n",
    "\n",
    "print('C is: ', c)\n",
    "    "
   ]
  },
  {
   "cell_type": "code",
   "execution_count": 38,
   "id": "48498fcd",
   "metadata": {},
   "outputs": [
    {
     "name": "stdout",
     "output_type": "stream",
     "text": [
      "[ 2  5  8 11]\n",
      "Count is:  3\n"
     ]
    }
   ],
   "source": [
    "A = np.arange(2,14,3)\n",
    "print(A)\n",
    "\n",
    "count = 0\n",
    "for i in A:\n",
    "    if i >= 5:\n",
    "        count += 1\n",
    "\n",
    "print('Count is: ', count)"
   ]
  },
  {
   "cell_type": "code",
   "execution_count": 50,
   "id": "f62a24eb",
   "metadata": {},
   "outputs": [
    {
     "name": "stdout",
     "output_type": "stream",
     "text": [
      "Enter your test score: 89\n",
      "Your grade is B.\n"
     ]
    }
   ],
   "source": [
    "### in-class exercise\n",
    "\n",
    "A_score = 90\n",
    "B_score = 80\n",
    "C_score = 70\n",
    "D_score = 60\n",
    "### F_score < 60\n",
    "\n",
    "score = int(input('Enter your test score: '))\n",
    " \n",
    "# Determine the grade.\n",
    "if score >= A_score:\n",
    "    print('Your grade is A.')\n",
    "elif score >= B_score:\n",
    "    print('Your grade is B.')\n",
    "elif score >= C_score:\n",
    "    print('Your grade is C.')\n",
    "elif score >= D_score:\n",
    "    print('Your grade is D.')\n",
    "else:\n",
    "    print('Your grade is F.')\n"
   ]
  },
  {
   "cell_type": "code",
   "execution_count": 56,
   "id": "b8c84a71",
   "metadata": {},
   "outputs": [
    {
     "name": "stdout",
     "output_type": "stream",
     "text": [
      "False\n"
     ]
    },
    {
     "data": {
      "text/plain": [
       "97"
      ]
     },
     "execution_count": 56,
     "metadata": {},
     "output_type": "execute_result"
    }
   ],
   "source": [
    "ord('a')"
   ]
  },
  {
   "cell_type": "code",
   "execution_count": 57,
   "id": "1837c48f",
   "metadata": {},
   "outputs": [
    {
     "data": {
      "text/plain": [
       "65"
      ]
     },
     "execution_count": 57,
     "metadata": {},
     "output_type": "execute_result"
    }
   ],
   "source": [
    "ord('A')"
   ]
  },
  {
   "cell_type": "code",
   "execution_count": 62,
   "id": "1f231ebe",
   "metadata": {},
   "outputs": [
    {
     "name": "stdout",
     "output_type": "stream",
     "text": [
      "False\n"
     ]
    }
   ],
   "source": [
    "print('aAa' > 'aAaAA')"
   ]
  },
  {
   "cell_type": "code",
   "execution_count": 67,
   "id": "34b508ee",
   "metadata": {},
   "outputs": [
    {
     "name": "stdout",
     "output_type": "stream",
     "text": [
      "Enter name 1: alph1\n",
      "Enter name 2: alph2\n",
      "The name in alphabetical order is: \n",
      "\n",
      "alph1 \n",
      " alph2\n"
     ]
    }
   ],
   "source": [
    "name1 = input('Enter name 1: ')\n",
    "name2 = input('Enter name 2: ')\n",
    "print('The name in alphabetical order is: \\n')\n",
    "\n",
    "if name1 <= name2:\n",
    "    print(name1,'\\n',name2)\n",
    "\n",
    "#print(name2)\n",
    "else:\n",
    "    print(name2,name1)\n",
    "    #print(name1)"
   ]
  },
  {
   "cell_type": "code",
   "execution_count": 69,
   "id": "0ea37a6b",
   "metadata": {},
   "outputs": [],
   "source": [
    "### in-class exercise: sort the fruit in alphabetical order\n",
    "Fruit = ['Apple','Orange','Pear','Banana','Pineapple','Grape','Melon']"
   ]
  },
  {
   "cell_type": "code",
   "execution_count": 70,
   "id": "a64c045b",
   "metadata": {},
   "outputs": [
    {
     "name": "stdout",
     "output_type": "stream",
     "text": [
      "The fruit in aphabetical order is: ['Apple', 'Banana', 'Grape', 'Melon', 'Orange', 'Pear', 'Pineapple']\n"
     ]
    }
   ],
   "source": [
    "for i in range(0,len(Fruit)-1):\n",
    "    for j in range(i+1,len(Fruit)):\n",
    "        if Fruit[i]>Fruit[j]:\n",
    "            Fruit[i], Fruit[j] = Fruit[j], Fruit[i]\n",
    "        \n",
    "#####\n",
    "print('The fruit in aphabetical order is:',Fruit)"
   ]
  },
  {
   "cell_type": "code",
   "execution_count": 91,
   "id": "c492159f",
   "metadata": {},
   "outputs": [
    {
     "name": "stdout",
     "output_type": "stream",
     "text": [
      "3\n"
     ]
    }
   ],
   "source": [
    "\n",
    "A = np.arange(2,14,3)\n",
    "\n",
    "count2 = 0\n",
    "for i in A:\n",
    "    count2 += 1 if i>=5 else count2   ### compact shorthand command\n",
    "\n",
    "print(count2)\n",
    "\n",
    "A = np.arange(2,14,3)\n",
    "\n"
   ]
  },
  {
   "cell_type": "code",
   "execution_count": 87,
   "id": "eb35187c",
   "metadata": {},
   "outputs": [
    {
     "name": "stdout",
     "output_type": "stream",
     "text": [
      "A is:  [ 2  5  8 11]\n",
      "B is:  [ 5  7  9 11 13]\n",
      "2\n"
     ]
    }
   ],
   "source": [
    "A = np.arange(2,14,3)\n",
    "B = np.arange(5,15,2)\n",
    "\n",
    "print('A is: ', A)\n",
    "print('B is: ', B)\n",
    "\n",
    "\n",
    "\n",
    "common = 0\n",
    "for i in A:\n",
    "    if i in B:\n",
    "        common += 1\n",
    "print(common)"
   ]
  },
  {
   "cell_type": "code",
   "execution_count": null,
   "id": "0f7b3ece",
   "metadata": {},
   "outputs": [],
   "source": []
  }
 ],
 "metadata": {
  "kernelspec": {
   "display_name": "Python 3",
   "language": "python",
   "name": "python3"
  },
  "language_info": {
   "codemirror_mode": {
    "name": "ipython",
    "version": 3
   },
   "file_extension": ".py",
   "mimetype": "text/x-python",
   "name": "python",
   "nbconvert_exporter": "python",
   "pygments_lexer": "ipython3",
   "version": "3.8.8"
  }
 },
 "nbformat": 4,
 "nbformat_minor": 5
}
