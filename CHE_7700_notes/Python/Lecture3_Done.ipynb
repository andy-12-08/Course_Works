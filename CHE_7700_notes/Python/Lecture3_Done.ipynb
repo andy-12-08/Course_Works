{
 "cells": [
  {
   "cell_type": "code",
   "execution_count": 10,
   "id": "7da768c6",
   "metadata": {
    "scrolled": false
   },
   "outputs": [
    {
     "name": "stdout",
     "output_type": "stream",
     "text": [
      "New sum:  21\n"
     ]
    }
   ],
   "source": [
    "##### list \n",
    "X = [1,2,3]\n",
    "Y = [4,5,6]\n",
    "\n",
    "ans = zip(X,Y)\n",
    "\n",
    "S = 0\n",
    "#for i in ans:\n",
    " #   print(i)\n",
    "  #  S = S + i[0] + i[1]\n",
    "#print('Total summation is: ', S)\n",
    "\n",
    "\n",
    "\n",
    "S2 = 0\n",
    "for (i,j) in ans:\n",
    "    #print(j)\n",
    "    S2 = S2 + i + j\n",
    "print('New sum: ',S2)\n"
   ]
  },
  {
   "cell_type": "code",
   "execution_count": 67,
   "id": "e87c1b79",
   "metadata": {},
   "outputs": [
    {
     "name": "stdout",
     "output_type": "stream",
     "text": [
      "[[2, 8, 10, 24], [-10, 16, 18, 0], [-12, 14, 22, 38]]\n",
      "[1, 4, 5, 12]\n",
      "5\n",
      "[-5, 8, 9, 0]\n",
      "9\n",
      "[-6, 7, 11, 19]\n",
      "11\n"
     ]
    },
    {
     "data": {
      "text/plain": [
       "[5, 9, 11]"
      ]
     },
     "execution_count": 67,
     "metadata": {},
     "output_type": "execute_result"
    }
   ],
   "source": [
    "A = [[1,4,5,12],[-5,8,9,0],[-6,7,11,19]]\n",
    "\n",
    "#A[0][0]\n",
    "\n",
    "B = A\n",
    "### calculate the summation of all elements in both A and B using zip funciton.\n",
    "i = [1, 4, 5, 12]\n",
    "j = [1, 4, 5, 12]\n",
    "\n",
    "Summation = 0 \n",
    "for (i,j) in zip(A,B):  \n",
    "    for (val1,val2) in zip(i,j):   \n",
    "        Summation = Summation + val1 + val2\n",
    "#print('Total sum is: ', Summation)\n",
    "\n",
    "\n",
    "sum_List = B\n",
    "##print(sum_List)\n",
    "i = 0  #### looping over each row\n",
    "\n",
    "for (ele1, ele2) in zip(A,B):\n",
    "    j = 0\n",
    "    for (val1,val2) in zip(ele1,ele2):\n",
    "        sum_List[i][j] = val1 + val2\n",
    "        j+=1\n",
    "    i+=1\n",
    "print(sum_List)\n",
    "\n",
    "A = [[1,4,5,12],[-5,8,9,0],[-6,7,11,19]]\n",
    "\n",
    "Second = []\n",
    "for i in range(3):\n",
    "    Second.append(A[i][1])\n",
    "Second\n",
    "\n",
    "\n",
    "Third = []\n",
    "for row in A:    \n",
    "    print(row)\n",
    "    print(row[2])\n",
    "    Third.append(row[2])\n",
    "Third"
   ]
  },
  {
   "cell_type": "code",
   "execution_count": 65,
   "id": "9102736f",
   "metadata": {},
   "outputs": [
    {
     "name": "stdout",
     "output_type": "stream",
     "text": [
      "old z is:  [-1.   0.   2.   3.2]\n",
      "old y is:  [-1.   0.   2.   3.2]\n",
      "new x is: [-1.   0.  10.   3.2]\n",
      "your y is:  [-1.   0.  10.   3.2]\n",
      "your z is:  [-1.   0.   2.   3.2]\n",
      "[[1 4 5 1]\n",
      " [3 2 3 7]\n",
      " [7 6 3 0]]\n"
     ]
    },
    {
     "data": {
      "text/plain": [
       "array([3, 2, 3, 7])"
      ]
     },
     "execution_count": 65,
     "metadata": {},
     "output_type": "execute_result"
    }
   ],
   "source": [
    "import numpy as np\n",
    "\n",
    "x = np.array([-1, 0, 2, 3.2])\n",
    "x\n",
    "y = x\n",
    "\n",
    "z = x.copy()\n",
    "\n",
    "print('old z is: ', z)\n",
    "print('old y is: ', y)\n",
    "x[2] = 10\n",
    "\n",
    "print('new x is:', x)\n",
    "\n",
    "print('your y is: ', y)\n",
    "print('your z is: ', z)\n",
    "\n",
    "y == x\n",
    "\n",
    "xarray = np.array([1,2,3], dtype = float)\n",
    "xarray\n",
    "\n",
    "A = np.array([[1,4,5,1],[3,2,3,7],[7,6,3,0]])\n",
    "print(A)\n",
    "type(A)\n",
    "(row,col) = A.shape\n",
    "row\n",
    "\n",
    "A[0][0]\n",
    "A[:,1]\n",
    "\n",
    "A[1,:]\n",
    "A[1]"
   ]
  },
  {
   "cell_type": "code",
   "execution_count": null,
   "id": "1ab0a575",
   "metadata": {},
   "outputs": [],
   "source": []
  }
 ],
 "metadata": {
  "kernelspec": {
   "display_name": "Python 3",
   "language": "python",
   "name": "python3"
  },
  "language_info": {
   "codemirror_mode": {
    "name": "ipython",
    "version": 3
   },
   "file_extension": ".py",
   "mimetype": "text/x-python",
   "name": "python",
   "nbconvert_exporter": "python",
   "pygments_lexer": "ipython3",
   "version": "3.8.8"
  }
 },
 "nbformat": 4,
 "nbformat_minor": 5
}
